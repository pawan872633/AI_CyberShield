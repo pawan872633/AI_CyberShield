{
 "cells": [
  {
   "cell_type": "code",
   "execution_count": null,
   "id": "0fe0930e",
   "metadata": {},
   "outputs": [],
   "source": [
    "import joblib\n",
    "import numpy as np"
   ]
  },
  {
   "cell_type": "code",
   "execution_count": null,
   "id": "85908d11",
   "metadata": {},
   "outputs": [],
   "source": [
    "print(\"🚀 Model Testing Started...\\n\")"
   ]
  },
  {
   "cell_type": "code",
   "execution_count": null,
   "id": "a5548b11",
   "metadata": {},
   "outputs": [],
   "source": [
    "# ✅ Model & Scaler Load Karo\n",
    "try:\n",
    "    model = joblib.load(\"best_model.pkl\")  # Model Load\n",
    "    scaler = joblib.load(\"scaler.pkl\")  # Scaler Load\n",
    "    print(\"✅ Model & Scaler Loaded Successfully!\\n\")\n",
    "except Exception as e:\n",
    "    print(f\"❌ Error Loading Model/Scaler: {e}\")\n",
    "    exit()"
   ]
  },
  {
   "cell_type": "code",
   "execution_count": null,
   "id": "2b09a4c0",
   "metadata": {},
   "outputs": [],
   "source": [
    "# ✅ Debugging: Scaler Ke Expected Features Check Karo\n",
    "if hasattr(scaler, \"feature_names_in_\"):\n",
    "    print(f\"🔍 Scaler Expected Features: {scaler.feature_names_in_}\\n\")\n",
    "    expected_features = len(scaler.feature_names_in_)\n",
    "else:\n",
    "    print(\"⚠️ Scaler does not have 'feature_names_in_' attribute. Defaulting to 8 features.\\n\")\n",
    "    expected_features = 8  # Default value"
   ]
  },
  {
   "cell_type": "code",
   "execution_count": null,
   "id": "754f38d8",
   "metadata": {},
   "outputs": [],
   "source": [
    "# ✅ Test Data Define Karo (🔥 Fix: Ensure Correct Number of Features)\n",
    "test_cases = {\n",
    "    \"Normal Packet\": [[19216801, 19216802, 80, 443, 6, 200, 1.5, 0][:expected_features]],  # Added 8th Feature\n",
    "    \"Possible Attack\": [[19216810, 19216820, 5000, 22, 17, 1500, 5.2, 1][:expected_features]],  # Added 8th Feature\n",
    "    \"DNS Traffic\": [[19216830, 19216840, 53, 53, 17, 500, 1.2, 0][:expected_features]],  # Added 8th Feature\n",
    "    \"High Traffic Load\": [[19216850, 19216860, 7000, 80, 6, 2500, 7.0, 1][:expected_features]]  # Added 8th Feature\n",
    "}"
   ]
  },
  {
   "cell_type": "code",
   "execution_count": null,
   "id": "47c458d7",
   "metadata": {},
   "outputs": [],
   "source": [
    "# ✅ Model Prediction Karo\n",
    "for case, data in test_cases.items():\n",
    "    try:\n",
    "        scaled_data = scaler.transform(data)  # Data Normalize Karo\n",
    "        prediction = model.predict(scaled_data)  # Prediction Karo\n",
    "        print(f\"🔍 {case} -> 🔥 Predicted Attack Type: {prediction[0]}\")\n",
    "    except Exception as e:\n",
    "        print(f\"❌ Error Testing '{case}': {e}\")"
   ]
  },
  {
   "cell_type": "code",
   "execution_count": null,
   "id": "7d4c0622",
   "metadata": {},
   "outputs": [],
   "source": [
    "print(\"\\n✅ Model Testing Completed Successfully! 🚀\")"
   ]
  }
 ],
 "metadata": {
  "jupytext": {
   "cell_metadata_filter": "-all",
   "main_language": "python",
   "notebook_metadata_filter": "-all"
  }
 },
 "nbformat": 4,
 "nbformat_minor": 5
}
