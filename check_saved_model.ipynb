{
 "cells": [
  {
   "cell_type": "code",
   "execution_count": null,
   "id": "18a090f8",
   "metadata": {},
   "outputs": [],
   "source": [
    "import joblib"
   ]
  },
  {
   "cell_type": "code",
   "execution_count": null,
   "id": "f1ff9973",
   "metadata": {},
   "outputs": [],
   "source": [
    "try:\n",
    "    # ✅ Load saved model\n",
    "    best_model = joblib.load(\"best_model.pkl\")\n",
    "    print(\"✅ Best Model Loaded Successfully!\")\n",
    "\n",
    "    # ✅ Load scaler\n",
    "    scaler_data = joblib.load(\"scaler.pkl\")\n",
    "    scaler = scaler_data[\"scaler\"]\n",
    "    feature_names = scaler_data[\"features\"]\n",
    "\n",
    "    print(f\"✅ Scaler Loaded! Features used: {feature_names}\")"
   ]
  },
  {
   "cell_type": "code",
   "execution_count": null,
   "id": "9171aa67",
   "metadata": {},
   "outputs": [],
   "source": [
    "except FileNotFoundError:\n",
    "    print(\"❌ Model ya Scaler file nahi mili! Pehle train karna padega.\")\n",
    "except Exception as e:\n",
    "    print(f\"❌ Error: {e}\")"
   ]
  }
 ],
 "metadata": {
  "jupytext": {
   "cell_metadata_filter": "-all",
   "main_language": "python",
   "notebook_metadata_filter": "-all"
  }
 },
 "nbformat": 4,
 "nbformat_minor": 5
}
