{
 "cells": [
  {
   "cell_type": "code",
   "execution_count": 5,
   "id": "0c7f35c1-9e84-4ed9-844a-4fdb71535557",
   "metadata": {},
   "outputs": [
    {
     "name": "stdout",
     "output_type": "stream",
     "text": [
      "✅ Best Model Loaded Successfully!\n",
      "✅ Scaler Loaded! Type: <class 'sklearn.preprocessing._data.StandardScaler'>\n",
      "✅ Features used: ['feature_0', 'feature_1', 'feature_2', 'feature_3', 'feature_4', 'feature_5', 'feature_6']\n",
      "❌ Error: The feature names should match those that were passed during fit.\n",
      "Feature names unseen at fit time:\n",
      "- feature_0\n",
      "- feature_1\n",
      "- feature_2\n",
      "- feature_3\n",
      "- feature_4\n",
      "- ...\n",
      "Feature names seen at fit time, yet now missing:\n",
      "- connection_duration\n",
      "- dst_ip\n",
      "- dst_port\n",
      "- packet_size\n",
      "- protocol\n",
      "- ...\n",
      "\n"
     ]
    }
   ],
   "source": [
    "import joblib\n",
    "import numpy as np\n",
    "import pandas as pd  # Import pandas\n",
    "\n",
    "try:\n",
    "    # ✅ Load saved model\n",
    "    best_model = joblib.load(\"best_model.pkl\")\n",
    "    print(\"✅ Best Model Loaded Successfully!\")\n",
    "\n",
    "    # ✅ Load scaler\n",
    "    scaler = joblib.load(\"scaler.pkl\")\n",
    "    print(f\"✅ Scaler Loaded! Type: {type(scaler)}\")\n",
    "\n",
    "    # ✅ Feature names manually handle\n",
    "    feature_count = scaler.n_features_in_\n",
    "    feature_names = [f\"feature_{i}\" for i in range(feature_count)]\n",
    "    print(f\"✅ Features used: {feature_names}\")\n",
    "\n",
    "    # ✅ Test model with dummy input (Fix warning)\n",
    "    sample_input = np.random.rand(1, feature_count)  # Random test data\n",
    "    sample_input_df = pd.DataFrame(sample_input, columns=feature_names)  # Assign feature names\n",
    "\n",
    "    scaled_input = scaler.transform(sample_input_df)  # Scaling the input\n",
    "    prediction = best_model.predict(scaled_input)  # Prediction\n",
    "\n",
    "    print(f\"🎯 Model Prediction: {prediction}\")\n",
    "\n",
    "except FileNotFoundError:\n",
    "    print(\"❌ Model ya Scaler file nahi mili! Pehle train karna padega.\")\n",
    "except Exception as e:\n",
    "    print(f\"❌ Error: {e}\")\n"
   ]
  },
  {
   "cell_type": "code",
   "execution_count": 7,
   "id": "bb0b03b2-ca36-4f4d-a693-04c7fdafd07f",
   "metadata": {},
   "outputs": [
    {
     "name": "stdout",
     "output_type": "stream",
     "text": [
      "✅ Scaler Loaded! Type: <class 'sklearn.preprocessing._data.StandardScaler'>\n"
     ]
    }
   ],
   "source": [
    "scaler = joblib.load(\"scaler.pkl\")\n",
    "print(f\"✅ Scaler Loaded! Type: {type(scaler)}\")\n"
   ]
  },
  {
   "cell_type": "code",
   "execution_count": 6,
   "id": "bf70791e-e359-4705-9160-6dc174115ea6",
   "metadata": {},
   "outputs": [
    {
     "ename": "AttributeError",
     "evalue": "'StandardScaler' object has no attribute 'keys'",
     "output_type": "error",
     "traceback": [
      "\u001b[1;31m---------------------------------------------------------------------------\u001b[0m",
      "\u001b[1;31mAttributeError\u001b[0m                            Traceback (most recent call last)",
      "Cell \u001b[1;32mIn[6], line 2\u001b[0m\n\u001b[0;32m      1\u001b[0m scaler_data \u001b[38;5;241m=\u001b[39m joblib\u001b[38;5;241m.\u001b[39mload(\u001b[38;5;124m\"\u001b[39m\u001b[38;5;124mscaler.pkl\u001b[39m\u001b[38;5;124m\"\u001b[39m)\n\u001b[1;32m----> 2\u001b[0m \u001b[38;5;28mprint\u001b[39m(\u001b[38;5;124mf\u001b[39m\u001b[38;5;124m\"\u001b[39m\u001b[38;5;124m✅ Scaler Loaded! Keys: \u001b[39m\u001b[38;5;132;01m{\u001b[39;00mscaler_data\u001b[38;5;241m.\u001b[39mkeys()\u001b[38;5;132;01m}\u001b[39;00m\u001b[38;5;124m\"\u001b[39m)\n",
      "\u001b[1;31mAttributeError\u001b[0m: 'StandardScaler' object has no attribute 'keys'"
     ]
    }
   ],
   "source": [
    "scaler_data = joblib.load(\"scaler.pkl\")\n",
    "print(f\"✅ Scaler Loaded! Keys: {scaler_data.keys()}\")\n"
   ]
  },
  {
   "cell_type": "code",
   "execution_count": null,
   "id": "2353c235-63eb-44c9-b16b-2de8bb568404",
   "metadata": {},
   "outputs": [],
   "source": []
  }
 ],
 "metadata": {
  "jupytext": {
   "cell_metadata_filter": "-all",
   "main_language": "python",
   "notebook_metadata_filter": "-all"
  },
  "kernelspec": {
   "display_name": "Python 3 (ipykernel)",
   "language": "python",
   "name": "python3"
  },
  "language_info": {
   "codemirror_mode": {
    "name": "ipython",
    "version": 3
   },
   "file_extension": ".py",
   "mimetype": "text/x-python",
   "name": "python",
   "nbconvert_exporter": "python",
   "pygments_lexer": "ipython3",
   "version": "3.9.13"
  }
 },
 "nbformat": 4,
 "nbformat_minor": 5
}
