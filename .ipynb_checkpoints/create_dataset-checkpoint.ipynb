{
 "cells": [
  {
   "cell_type": "code",
   "execution_count": null,
   "id": "3e13a41d",
   "metadata": {},
   "outputs": [],
   "source": [
    "import pandas as pd\n",
    "import numpy as np"
   ]
  },
  {
   "cell_type": "code",
   "execution_count": null,
   "id": "b78cc567",
   "metadata": {},
   "outputs": [],
   "source": [
    "# Sample Intrusion Detection Dataset\n",
    "np.random.seed(42)\n",
    "n_samples = 1000  # Number of data points"
   ]
  },
  {
   "cell_type": "code",
   "execution_count": null,
   "id": "94ebaa05",
   "metadata": {},
   "outputs": [],
   "source": [
    "# Feature columns (e.g., network traffic attributes)\n",
    "data = {\n",
    "    \"src_ip\": np.random.randint(1, 255, n_samples),\n",
    "    \"dst_ip\": np.random.randint(1, 255, n_samples),\n",
    "    \"src_port\": np.random.randint(1024, 65535, n_samples),\n",
    "    \"dst_port\": np.random.randint(1, 65535, n_samples),\n",
    "    \"protocol\": np.random.choice([\"TCP\", \"UDP\", \"ICMP\"], n_samples),\n",
    "    \"packet_size\": np.random.randint(64, 1500, n_samples),\n",
    "    \"connection_duration\": np.random.uniform(0.1, 10, n_samples),\n",
    "    \"attack_type\": np.random.choice([\"normal\", \"dos\", \"r2l\", \"u2r\", \"probe\"], n_samples)\n",
    "}"
   ]
  },
  {
   "cell_type": "code",
   "execution_count": null,
   "id": "61ebce3c",
   "metadata": {},
   "outputs": [],
   "source": [
    "# Create DataFrame\n",
    "df = pd.DataFrame(data)"
   ]
  },
  {
   "cell_type": "code",
   "execution_count": null,
   "id": "bd6e9739",
   "metadata": {},
   "outputs": [],
   "source": [
    "# Save dataset to CSV\n",
    "df.to_csv(\"dataset/intrusion_data.csv\", index=False)"
   ]
  },
  {
   "cell_type": "code",
   "execution_count": null,
   "id": "d37278ef",
   "metadata": {},
   "outputs": [],
   "source": [
    "print(\"✅ Dataset 'intrusion_data.csv' successfully created in 'dataset' folder!\")"
   ]
  }
 ],
 "metadata": {
  "jupytext": {
   "cell_metadata_filter": "-all",
   "main_language": "python",
   "notebook_metadata_filter": "-all"
  }
 },
 "nbformat": 4,
 "nbformat_minor": 5
}
