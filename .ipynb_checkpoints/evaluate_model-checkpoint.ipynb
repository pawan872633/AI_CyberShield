{
 "cells": [
  {
   "cell_type": "code",
   "execution_count": null,
   "id": "ef80ba67",
   "metadata": {},
   "outputs": [],
   "source": [
    "import numpy as np  \n",
    "import pickle  # ✅ Import Pickle to Load Model\n",
    "import pandas as pd\n",
    "from sklearn.metrics import classification_report, confusion_matrix\n",
    "from collections import Counter  # ✅ Debugging ke liye"
   ]
  },
  {
   "cell_type": "code",
   "execution_count": null,
   "id": "bc848148",
   "metadata": {},
   "outputs": [],
   "source": [
    "# ✅ Load Model, Scaler & Encoder\n",
    "model = pickle.load(open(\"best_model.pkl\", \"rb\"))\n",
    "scaler = pickle.load(open(\"scaler.pkl\", \"rb\"))\n",
    "attack_encoder = pickle.load(open(\"attack_encoder.pkl\", \"rb\"))\n",
    "print(\"🚀 Model, Scaler & Encoder Loaded Successfully!\")"
   ]
  },
  {
   "cell_type": "code",
   "execution_count": null,
   "id": "d8a07610",
   "metadata": {},
   "outputs": [],
   "source": [
    "# ✅ Debug: Check Expected Feature Order\n",
    "expected_features = ['src_ip', 'dst_ip', 'src_port', 'dst_port', 'protocol', 'packet_size', 'connection_duration']\n",
    "\n",
    "print(f\"✅ Expected Feature Order: {expected_features}\")"
   ]
  },
  {
   "cell_type": "code",
   "execution_count": null,
   "id": "11b91ddb",
   "metadata": {},
   "outputs": [],
   "source": [
    "# ✅ Define Test Data (Ensure Same Order)\n",
    "X_test_data = [\n",
    "    [80, 443, 200, 1.5, 6, 192168001001, 192168001002],\n",
    "    [5000, 22, 1500, 5.2, 17, 192168001003, 192168001004],\n",
    "    [53, 53, 500, 1.2, 6, 192168001005, 192168001006],\n",
    "    [7000, 80, 2500, 7.0, 20, 192168001007, 192168001008],\n",
    "    [3000, 443, 1200, 4.5, 15, 192168001011, 192168001012]\n",
    "]"
   ]
  },
  {
   "cell_type": "code",
   "execution_count": null,
   "id": "1261b2c7",
   "metadata": {},
   "outputs": [],
   "source": [
    "# ✅ Convert to DataFrame\n",
    "X_test = pd.DataFrame(X_test_data, columns=expected_features)"
   ]
  },
  {
   "cell_type": "code",
   "execution_count": null,
   "id": "d89b3350",
   "metadata": {},
   "outputs": [],
   "source": [
    "# ✅ Debug: Print Columns\n",
    "print(f\"🔍 Test Data Columns: {X_test.columns.tolist()}\")"
   ]
  },
  {
   "cell_type": "code",
   "execution_count": null,
   "id": "5e8ca4cb",
   "metadata": {},
   "outputs": [],
   "source": [
    "# ✅ Ensure Feature Order Matches Training Order\n",
    "X_test = X_test[expected_features]  # ✅ This Ensures Correct Order"
   ]
  },
  {
   "cell_type": "code",
   "execution_count": null,
   "id": "41ea67c2",
   "metadata": {},
   "outputs": [],
   "source": [
    "# ✅ Scale Test Data\n",
    "X_test_scaled = scaler.transform(X_test)\n",
    "print(f\"🔍 Scaled Test Data:\\n{X_test_scaled}\")  # ✅ Debugging Line"
   ]
  },
  {
   "cell_type": "code",
   "execution_count": null,
   "id": "12a2bd70",
   "metadata": {},
   "outputs": [],
   "source": [
    "# ✅ Predict\n",
    "y_pred_encoded = model.predict(X_test_scaled)"
   ]
  },
  {
   "cell_type": "code",
   "execution_count": null,
   "id": "ba337782",
   "metadata": {},
   "outputs": [],
   "source": [
    "# ✅ Convert Predictions to Labels\n",
    "y_pred = attack_encoder.inverse_transform(y_pred_encoded)"
   ]
  },
  {
   "cell_type": "code",
   "execution_count": null,
   "id": "9f0d1ac9",
   "metadata": {},
   "outputs": [],
   "source": [
    "# ✅ Debug: Check Predictions Distribution\n",
    "print(f\"🔍 Prediction Distribution: {Counter(y_pred_encoded)}\")"
   ]
  },
  {
   "cell_type": "code",
   "execution_count": null,
   "id": "4e7ea013",
   "metadata": {},
   "outputs": [],
   "source": [
    "# ✅ Confusion Matrix\n",
    "print(\"\\n🔍 Confusion Matrix:\")\n",
    "print(confusion_matrix(y_pred_encoded, y_pred_encoded))"
   ]
  },
  {
   "cell_type": "code",
   "execution_count": null,
   "id": "8291de8f",
   "metadata": {},
   "outputs": [],
   "source": [
    "# ✅ Fix Classification Report Issue\n",
    "print(\"\\n📊 Classification Report:\")\n",
    "print(classification_report(y_pred_encoded, y_pred_encoded, labels=np.unique(y_pred_encoded)))"
   ]
  }
 ],
 "metadata": {
  "jupytext": {
   "cell_metadata_filter": "-all",
   "main_language": "python",
   "notebook_metadata_filter": "-all"
  },
  "kernelspec": {
   "display_name": "Python 3 (ipykernel)",
   "language": "python",
   "name": "python3"
  },
  "language_info": {
   "codemirror_mode": {
    "name": "ipython",
    "version": 3
   },
   "file_extension": ".py",
   "mimetype": "text/x-python",
   "name": "python",
   "nbconvert_exporter": "python",
   "pygments_lexer": "ipython3",
   "version": "3.9.13"
  }
 },
 "nbformat": 4,
 "nbformat_minor": 5
}
