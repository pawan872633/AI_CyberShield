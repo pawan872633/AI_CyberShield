{
 "cells": [
  {
   "cell_type": "code",
   "execution_count": null,
   "id": "201bdd13-305f-487e-93f1-c1fc839c1e0b",
   "metadata": {},
   "outputs": [],
   "source": [
    "import joblib\n",
    "import numpy as np\n",
    "import pandas as pd\n",
    "\n",
    "try:\n",
    "    # ✅ Load saved model\n",
    "    best_model = joblib.load(\"best_model.pkl\")\n",
    "    print(\"✅ Best Model Loaded Successfully!\")\n",
    "\n",
    "    # ✅ Load scaler\n",
    "    scaler_data = joblib.load(\"scaler.pkl\")\n",
    "    scaler = scaler_data[\"scaler\"]\n",
    "    feature_names = scaler_data[\"features\"]\n",
    "\n",
    "    print(f\"✅ Scaler Loaded! Features used: {feature_names}\")\n",
    "\n",
    "    # ✅ Test model with dummy input\n",
    "    sample_input = np.random.rand(1, len(feature_names))  # Random test data\n",
    "    scaled_input = scaler.transform(sample_input)  # Scaling the input\n",
    "\n",
    "    # ⚠️ Fix warning by converting to DataFrame\n",
    "    scaled_input = pd.DataFrame(scaled_input, columns=feature_names)\n",
    "\n",
    "    prediction = best_model.predict(scaled_input)  # Prediction\n",
    "    print(f\"🎯 Model Prediction: {prediction}\")\n",
    "\n",
    "except FileNotFoundError:\n",
    "    print(\"❌ Model ya Scaler file nahi mili! Pehle train karna padega.\")\n",
    "except Exception as e:\n",
    "    print(f\"❌ Error: {e}\")\n"
   ]
  }
 ],
 "metadata": {
  "jupytext": {
   "cell_metadata_filter": "-all",
   "main_language": "python",
   "notebook_metadata_filter": "-all"
  },
  "kernelspec": {
   "display_name": "Python 3 (ipykernel)",
   "language": "python",
   "name": "python3"
  },
  "language_info": {
   "codemirror_mode": {
    "name": "ipython",
    "version": 3
   },
   "file_extension": ".py",
   "mimetype": "text/x-python",
   "name": "python",
   "nbconvert_exporter": "python",
   "pygments_lexer": "ipython3",
   "version": "3.9.13"
  }
 },
 "nbformat": 4,
 "nbformat_minor": 5
}
