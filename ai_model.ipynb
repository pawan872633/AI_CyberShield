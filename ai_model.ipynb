{
 "cells": [
  {
   "cell_type": "code",
   "execution_count": null,
   "id": "74efb1c8",
   "metadata": {},
   "outputs": [],
   "source": [
    "import pandas as pd\n",
    "import pickle\n",
    "from sklearn.model_selection import train_test_split\n",
    "from sklearn.ensemble import RandomForestClassifier\n",
    "from sklearn.preprocessing import LabelEncoder, StandardScaler\n",
    "from imblearn.over_sampling import SMOTE\n",
    "from collections import Counter"
   ]
  },
  {
   "cell_type": "code",
   "execution_count": null,
   "id": "78aa4370",
   "metadata": {},
   "outputs": [],
   "source": [
    "# ✅ Load Dataset\n",
    "try:\n",
    "    df = pd.read_csv(\"dataset/intrusion_data.csv\")\n",
    "    print(\"✅ Dataset Loaded Successfully!\")\n",
    "except FileNotFoundError:\n",
    "    print(\"❌ Error: Dataset File Not Found! Check Path.\")\n",
    "    exit()"
   ]
  },
  {
   "cell_type": "code",
   "execution_count": null,
   "id": "89f99905",
   "metadata": {},
   "outputs": [],
   "source": [
    "# ✅ Ensure Required Columns Exist\n",
    "required_columns = [\"src_port\", \"dst_port\", \"packet_size\", \"connection_duration\", \"protocol\", \"attack_type\"]\n",
    "missing_columns = [col for col in required_columns if col not in df.columns]\n",
    "if missing_columns:\n",
    "    print(f\"❌ Error: Missing columns in dataset -> {missing_columns}\")\n",
    "    exit()"
   ]
  },
  {
   "cell_type": "code",
   "execution_count": null,
   "id": "9cb39382",
   "metadata": {},
   "outputs": [],
   "source": [
    "# ✅ Label Encoding for 'protocol'\n",
    "protocol_encoder = LabelEncoder()\n",
    "df[\"protocol\"] = protocol_encoder.fit_transform(df[\"protocol\"])\n",
    "with open(\"protocol_encoder.pkl\", \"wb\") as f:\n",
    "    pickle.dump(protocol_encoder, f)\n",
    "print(\"✅ Protocol Encoder Saved Successfully!\")"
   ]
  },
  {
   "cell_type": "code",
   "execution_count": null,
   "id": "52a6f73c",
   "metadata": {},
   "outputs": [],
   "source": [
    "# ✅ Label Encoding for 'attack_type'\n",
    "attack_encoder = LabelEncoder()\n",
    "df[\"attack_type\"] = attack_encoder.fit_transform(df[\"attack_type\"])\n",
    "with open(\"attack_encoder.pkl\", \"wb\") as f:\n",
    "    pickle.dump(attack_encoder, f)\n",
    "print(\"✅ Attack Type Encoder Saved Successfully!\")"
   ]
  },
  {
   "cell_type": "code",
   "execution_count": null,
   "id": "a18252b1",
   "metadata": {},
   "outputs": [],
   "source": [
    "# ✅ Feature Selection\n",
    "X = df.drop(columns=[\"attack_type\"])\n",
    "y = df[\"attack_type\"]\n",
    "print(f\"🔍 Features Before SMOTE: {X.shape[1]} Columns\")"
   ]
  },
  {
   "cell_type": "code",
   "execution_count": null,
   "id": "a8b97dcf",
   "metadata": {},
   "outputs": [],
   "source": [
    "# ✅ Handle Data Imbalance using SMOTE\n",
    "smote = SMOTE(random_state=42)\n",
    "X_resampled, y_resampled = smote.fit_resample(X, y)\n",
    "print(\"🔍 Class Distribution After SMOTE:\", Counter(y_resampled))"
   ]
  },
  {
   "cell_type": "code",
   "execution_count": null,
   "id": "69eca1e0",
   "metadata": {},
   "outputs": [],
   "source": [
    "# ✅ Split Data\n",
    "X_train, X_test, y_train, y_test = train_test_split(X_resampled, y_resampled, test_size=0.2, random_state=42)"
   ]
  },
  {
   "cell_type": "code",
   "execution_count": null,
   "id": "e39d9628",
   "metadata": {},
   "outputs": [],
   "source": [
    "# ✅ Feature Scaling\n",
    "scaler = StandardScaler()\n",
    "X_train_scaled = scaler.fit_transform(X_train)\n",
    "X_test_scaled = scaler.transform(X_test)\n",
    "with open(\"scaler.pkl\", \"wb\") as f:\n",
    "    pickle.dump(scaler, f)\n",
    "print(\"✅ Scaler Saved Successfully!\")"
   ]
  },
  {
   "cell_type": "code",
   "execution_count": null,
   "id": "8f5942aa",
   "metadata": {},
   "outputs": [],
   "source": [
    "# ✅ Train Model (Hyperparameter Tuning for Accuracy)\n",
    "model = RandomForestClassifier(\n",
    "    n_estimators=200, \n",
    "    max_depth=20, \n",
    "    min_samples_split=5, \n",
    "    random_state=42\n",
    ")\n",
    "model.fit(X_train_scaled, y_train)"
   ]
  },
  {
   "cell_type": "code",
   "execution_count": null,
   "id": "abb1b767",
   "metadata": {},
   "outputs": [],
   "source": [
    "# ✅ Save Model\n",
    "with open(\"best_model.pkl\", \"wb\") as f:\n",
    "    pickle.dump(model, f)\n",
    "print(\"✅ AI Model Trained & Saved Successfully! 🚀\")"
   ]
  },
  {
   "cell_type": "code",
   "execution_count": null,
   "id": "c62cd394",
   "metadata": {},
   "outputs": [],
   "source": [
    "# ✅ Feature Importance Debugging\n",
    "importances = model.feature_importances_\n",
    "for feature, importance in zip(X.columns, importances):\n",
    "    print(f\"⭐ {feature}: {importance:.4f}\")"
   ]
  },
  {
   "cell_type": "code",
   "execution_count": null,
   "id": "b39cfb6e",
   "metadata": {
    "lines_to_next_cell": 2
   },
   "outputs": [],
   "source": [
    "# ✅ Debug: Ensure Feature Count Matches\n",
    "print(f\"✅ Model Trained with {X_train.shape[1]} Features\")"
   ]
  }
 ],
 "metadata": {
  "jupytext": {
   "cell_metadata_filter": "-all",
   "main_language": "python",
   "notebook_metadata_filter": "-all"
  }
 },
 "nbformat": 4,
 "nbformat_minor": 5
}
