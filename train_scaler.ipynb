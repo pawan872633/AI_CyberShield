{
 "cells": [
  {
   "cell_type": "code",
   "execution_count": null,
   "id": "c2a6531e-e8b5-433d-839e-c36dd157b90e",
   "metadata": {},
   "outputs": [],
   "source": [
    "import pandas as pd\n",
    "from sklearn.preprocessing import StandardScaler, LabelEncoder\n",
    "import joblib\n",
    "\n",
    "# ✅ Dataset Load Karo\n",
    "df = pd.read_csv(\"dataset/intrusion_data.csv\")  # Fix Path\n",
    "\n",
    "# ✅ Categorical Columns Encode Karo (Agar Hai)\n",
    "label_encoders = {}\n",
    "for column in df.select_dtypes(include=['object']).columns:\n",
    "    le = LabelEncoder()\n",
    "    df[column] = le.fit_transform(df[column])  # Encode Karo\n",
    "    label_encoders[column] = le\n",
    "\n",
    "# ✅ Feature Selection (Assuming Last Column = Target)\n",
    "X = df.iloc[:, :-1]  # Last column ko hata diya\n",
    "\n",
    "# ✅ Scaling\n",
    "scaler = StandardScaler()\n",
    "X_scaled = scaler.fit_transform(X)\n",
    "\n",
    "# ✅ Assign feature_names_in_ manually (Important for Bash output)\n",
    "scaler.feature_names_in_ = X.columns.to_numpy()\n",
    "\n",
    "# ✅ Save Scaler & Encoders\n",
    "joblib.dump(scaler, \"scaler.pkl\")\n",
    "joblib.dump(label_encoders, \"label_encoders.pkl\")  # Save Encoders\n",
    "\n",
    "# ✅ Print output same as Jupyter Notebook\n",
    "print(\"✅ Scaler Saved Successfully! 🚀\")\n",
    "print(\"✅ Scaler Features:\", list(scaler.feature_names_in_))\n",
    "\n",
    "# ✅ Test Loading in Bash\n",
    "scaler = joblib.load(\"scaler.pkl\")\n",
    "print(\"\\n✅ Loaded Scaler Features:\", list(scaler.feature_names_in_))\n",
    "print(\"✅ Scaler Type:\", type(scaler))\n"
   ]
  }
 ],
 "metadata": {
  "jupytext": {
   "cell_metadata_filter": "-all",
   "main_language": "python",
   "notebook_metadata_filter": "-all"
  },
  "kernelspec": {
   "display_name": "Python 3 (ipykernel)",
   "language": "python",
   "name": "python3"
  },
  "language_info": {
   "codemirror_mode": {
    "name": "ipython",
    "version": 3
   },
   "file_extension": ".py",
   "mimetype": "text/x-python",
   "name": "python",
   "nbconvert_exporter": "python",
   "pygments_lexer": "ipython3",
   "version": "3.9.13"
  }
 },
 "nbformat": 4,
 "nbformat_minor": 5
}
