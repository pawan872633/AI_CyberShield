{
 "cells": [
  {
   "cell_type": "code",
   "execution_count": null,
   "id": "98fdd489",
   "metadata": {},
   "outputs": [],
   "source": [
    "import pandas as pd\n",
    "from sklearn.preprocessing import StandardScaler, LabelEncoder\n",
    "import joblib"
   ]
  },
  {
   "cell_type": "code",
   "execution_count": null,
   "id": "f269f365",
   "metadata": {},
   "outputs": [],
   "source": [
    "# ✅ Dataset Load Karo\n",
    "df = pd.read_csv(\"dataset/intrusion_data.csv\")  # Fix Path"
   ]
  },
  {
   "cell_type": "code",
   "execution_count": null,
   "id": "d3106d90",
   "metadata": {},
   "outputs": [],
   "source": [
    "# ✅ Categorical Columns Encode Karo (Agar Hai)\n",
    "label_encoders = {}\n",
    "for column in df.select_dtypes(include=['object']).columns:\n",
    "    le = LabelEncoder()\n",
    "    df[column] = le.fit_transform(df[column])  # Encode Karo\n",
    "    label_encoders[column] = le"
   ]
  },
  {
   "cell_type": "code",
   "execution_count": null,
   "id": "5711594a",
   "metadata": {},
   "outputs": [],
   "source": [
    "# ✅ Feature Selection (Assuming Last Column = Target)\n",
    "X = df.iloc[:, :-1]  # Last column ko hata diya"
   ]
  },
  {
   "cell_type": "code",
   "execution_count": null,
   "id": "e5b22303",
   "metadata": {},
   "outputs": [],
   "source": [
    "# ✅ Scaling\n",
    "scaler = StandardScaler()\n",
    "X_scaled = scaler.fit_transform(X)"
   ]
  },
  {
   "cell_type": "code",
   "execution_count": null,
   "id": "1ce8ae01",
   "metadata": {},
   "outputs": [],
   "source": [
    "# ✅ Save Scaler & Encoders\n",
    "joblib.dump(scaler, \"scaler.pkl\")\n",
    "joblib.dump(label_encoders, \"label_encoders.pkl\")  # Save Encoders"
   ]
  },
  {
   "cell_type": "code",
   "execution_count": null,
   "id": "0cae34d4",
   "metadata": {},
   "outputs": [],
   "source": [
    "print(\"✅ Scaler & Label Encoders Saved Successfully! 🚀\")"
   ]
  }
 ],
 "metadata": {
  "jupytext": {
   "cell_metadata_filter": "-all",
   "main_language": "python",
   "notebook_metadata_filter": "-all"
  }
 },
 "nbformat": 4,
 "nbformat_minor": 5
}
