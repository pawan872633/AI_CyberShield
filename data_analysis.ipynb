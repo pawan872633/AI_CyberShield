{
 "cells": [
  {
   "cell_type": "code",
   "execution_count": null,
   "id": "d847b460",
   "metadata": {},
   "outputs": [],
   "source": [
    "import pandas as pd"
   ]
  },
  {
   "cell_type": "code",
   "execution_count": null,
   "id": "2b569fee",
   "metadata": {},
   "outputs": [],
   "source": [
    "# ✅ Apni file ka path yaha likh\n",
    "file_path = r\"C:\\Users\\pawan\\Downloads\\GeneratedLabelledFlows\\TrafficLabelling\\Monday-WorkingHours.pcap_ISCX.csv\""
   ]
  },
  {
   "cell_type": "code",
   "execution_count": null,
   "id": "5fa45c7a",
   "metadata": {},
   "outputs": [],
   "source": [
    "# ✅ CSV file load karna\n",
    "df = pd.read_csv(file_path)"
   ]
  },
  {
   "cell_type": "code",
   "execution_count": null,
   "id": "23cde6d9",
   "metadata": {},
   "outputs": [],
   "source": [
    "# ✅ Pehli 5 rows print karna\n",
    "print(\"🔹 First 5 Rows of Data:\")\n",
    "print(df.head())"
   ]
  },
  {
   "cell_type": "code",
   "execution_count": null,
   "id": "4446e0ad",
   "metadata": {},
   "outputs": [],
   "source": [
    "# ✅ Data ka structure dekhna\n",
    "print(\"\\n🔹 Dataset Structure:\")\n",
    "print(df.info())"
   ]
  },
  {
   "cell_type": "code",
   "execution_count": null,
   "id": "5f1216ad",
   "metadata": {
    "lines_to_next_cell": 2
   },
   "outputs": [],
   "source": [
    "# ✅ Missing values check karna\n",
    "print(\"\\n🔹 Missing Values in Each Column:\")\n",
    "print(df.isnull().sum())"
   ]
  }
 ],
 "metadata": {
  "jupytext": {
   "cell_metadata_filter": "-all",
   "main_language": "python",
   "notebook_metadata_filter": "-all"
  }
 },
 "nbformat": 4,
 "nbformat_minor": 5
}
