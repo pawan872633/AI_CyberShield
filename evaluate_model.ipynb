{
 "cells": [
  {
   "cell_type": "code",
   "execution_count": 1,
   "id": "b6ba839b-aca1-472e-bb81-5cdddc183baa",
   "metadata": {},
   "outputs": [
    {
     "name": "stdout",
     "output_type": "stream",
     "text": [
      "🚀 Model, Scaler & Encoder Loaded Successfully!\n",
      "✅ Expected Features: ['src_ip', 'dst_ip', 'src_port', 'dst_port', 'protocol', 'packet_size', 'connection_duration']\n"
     ]
    }
   ],
   "source": [
    "import pickle\n",
    "\n",
    "# ✅ Load Model & Scaler\n",
    "with open(\"best_model.pkl\", \"rb\") as f:\n",
    "    model = pickle.load(f)\n",
    "\n",
    "with open(\"scaler.pkl\", \"rb\") as f:\n",
    "    scaler = pickle.load(f)\n",
    "\n",
    "print(\"🚀 Model, Scaler & Encoder Loaded Successfully!\")\n",
    "\n",
    "# ✅ Define Expected Features Manually\n",
    "expected_features = ['src_ip', 'dst_ip', 'src_port', 'dst_port', 'protocol', 'packet_size', 'connection_duration']\n",
    "\n",
    "print(\"✅ Expected Features:\", expected_features)\n"
   ]
  },
  {
   "cell_type": "code",
   "execution_count": null,
   "id": "316f3d83-583a-4296-b758-b89009389238",
   "metadata": {},
   "outputs": [],
   "source": []
  }
 ],
 "metadata": {
  "jupytext": {
   "cell_metadata_filter": "-all",
   "main_language": "python",
   "notebook_metadata_filter": "-all"
  },
  "kernelspec": {
   "display_name": "Python 3 (ipykernel)",
   "language": "python",
   "name": "python3"
  },
  "language_info": {
   "codemirror_mode": {
    "name": "ipython",
    "version": 3
   },
   "file_extension": ".py",
   "mimetype": "text/x-python",
   "name": "python",
   "nbconvert_exporter": "python",
   "pygments_lexer": "ipython3",
   "version": "3.9.13"
  }
 },
 "nbformat": 4,
 "nbformat_minor": 5
}
